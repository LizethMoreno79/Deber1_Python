{
 "cells": [
  {
   "cell_type": "code",
   "execution_count": 1,
   "id": "422d71bf-18cb-46bb-8a85-ce5e3a4702c3",
   "metadata": {},
   "outputs": [],
   "source": [
    "import seaborn"
   ]
  },
  {
   "cell_type": "code",
   "execution_count": 2,
   "id": "c7dbfe7f-ef65-427f-86e3-7375f6970650",
   "metadata": {},
   "outputs": [],
   "source": [
    "nombre='Lizeth'"
   ]
  },
  {
   "cell_type": "code",
   "execution_count": 3,
   "id": "c3066ceb-09b4-4433-a80f-42777197556f",
   "metadata": {},
   "outputs": [],
   "source": [
    "edad=27"
   ]
  },
  {
   "cell_type": "code",
   "execution_count": 5,
   "id": "1a9b0387-5e2d-4901-b1d5-fae1dbd52179",
   "metadata": {},
   "outputs": [
    {
     "data": {
      "text/plain": [
       "'mi nombre es Lizeth  y tengo 27 años'"
      ]
     },
     "execution_count": 5,
     "metadata": {},
     "output_type": "execute_result"
    }
   ],
   "source": [
    "f'mi nombre es {nombre}  y tengo {edad} años'"
   ]
  },
  {
   "cell_type": "code",
   "execution_count": null,
   "id": "854646c6-3298-404a-81c5-398f3627e374",
   "metadata": {},
   "outputs": [],
   "source": []
  },
  {
   "cell_type": "code",
   "execution_count": null,
   "id": "1f850a95-9949-4b04-9204-bac54f710740",
   "metadata": {},
   "outputs": [],
   "source": []
  },
  {
   "cell_type": "code",
   "execution_count": null,
   "id": "0612c5d6-d6d9-4d0a-a16a-9d73094afe36",
   "metadata": {},
   "outputs": [],
   "source": []
  }
 ],
 "metadata": {
  "kernelspec": {
   "display_name": "Python 3 (ipykernel)",
   "language": "python",
   "name": "python3"
  },
  "language_info": {
   "codemirror_mode": {
    "name": "ipython",
    "version": 3
   },
   "file_extension": ".py",
   "mimetype": "text/x-python",
   "name": "python",
   "nbconvert_exporter": "python",
   "pygments_lexer": "ipython3",
   "version": "3.10.12"
  }
 },
 "nbformat": 4,
 "nbformat_minor": 5
}
